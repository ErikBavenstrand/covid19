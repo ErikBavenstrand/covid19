{
 "cells": [
  {
   "cell_type": "markdown",
   "metadata": {},
   "source": [
    "# Imports"
   ]
  },
  {
   "cell_type": "code",
   "execution_count": 1,
   "metadata": {},
   "outputs": [],
   "source": [
    "from enum import Enum\n",
    "from os import listdir\n",
    "import os.path"
   ]
  },
  {
   "cell_type": "code",
   "execution_count": 2,
   "metadata": {},
   "outputs": [],
   "source": [
    "from tensorflow.keras.applications import vgg16\n",
    "from tensorflow.keras.preprocessing.image import load_img, img_to_array\n",
    "import numpy as np"
   ]
  },
  {
   "cell_type": "code",
   "execution_count": 3,
   "metadata": {},
   "outputs": [],
   "source": [
    "# Let keras load images that might be too small\n",
    "from PIL import ImageFile\n",
    "ImageFile.LOAD_TRUNCATED_IMAGES = True"
   ]
  },
  {
   "cell_type": "markdown",
   "metadata": {},
   "source": [
    "# Constants"
   ]
  },
  {
   "cell_type": "code",
   "execution_count": 4,
   "metadata": {},
   "outputs": [],
   "source": [
    "LOG_SEVERITY = 1\n",
    "\n",
    "IMG_TGT_SZ = (224, 224)\n",
    "IMGS_BASE_PATH = os.path.join('..', 'COVID-19 Dataset', 'CT', 'COVID')"
   ]
  },
  {
   "cell_type": "markdown",
   "metadata": {},
   "source": [
    "# Support Functions"
   ]
  },
  {
   "cell_type": "code",
   "execution_count": 5,
   "metadata": {},
   "outputs": [],
   "source": [
    "class Severity(Enum):\n",
    "    DEBUG = 1\n",
    "    INFO = 2\n",
    "    WARNING = 3\n",
    "\n",
    "def log_msg(msg, severity=Severity.INFO):\n",
    "    if LOG_SEVERITY <= severity.value:\n",
    "        print(f'{severity.name}: {msg}')"
   ]
  },
  {
   "cell_type": "code",
   "execution_count": 6,
   "metadata": {},
   "outputs": [],
   "source": [
    "def preprocess_images(images, model_preprocess=None):\n",
    "    \"Preprocess a list of image files to be used with a CNN 224x224 model\"\n",
    "    pil_images = [load_img(image, target_size=IMG_TGT_SZ) for image in images]\n",
    "    log_msg(f'Loaded {len(images)} images.')\n",
    "    np_images = np.array([img_to_array(image) for image in pil_images])\n",
    "    log_msg(f'Converted to numpy arrays with shape {np_images.shape}.')\n",
    "    if model_preprocess:\n",
    "        np_images = model_preprocess(np_images)\n",
    "    return np_images"
   ]
  },
  {
   "cell_type": "markdown",
   "metadata": {},
   "source": [
    "# Primary Execution flow"
   ]
  },
  {
   "cell_type": "code",
   "execution_count": 7,
   "metadata": {},
   "outputs": [
    {
     "name": "stdout",
     "output_type": "stream",
     "text": [
      "DEBUG: Loading some images: ['../COVID-19 Dataset/CT/COVID/2020.03.01.20029769-p21-73_1%1.png', '../COVID-19 Dataset/CT/COVID/coronacases_org_001_z079.png', '../COVID-19 Dataset/CT/COVID/16745_2_2.PNG', '../COVID-19 Dataset/CT/COVID/coronacases_org_001_z045.png', '../COVID-19 Dataset/CT/COVID/2020.03.03.20030668-p18-64%1.png']\n",
      "INFO: Loaded 100 images.\n",
      "INFO: Converted to numpy arrays with shape (100, 224, 224, 3).\n"
     ]
    }
   ],
   "source": [
    "files = listdir(IMGS_BASE_PATH)\n",
    "\n",
    "images = [os.path.join(IMGS_BASE_PATH, f) for f in files \n",
    "          if f.endswith(('png', 'PNG', 'jpg', 'JPG', 'jpeg', 'JPEG'))]\n",
    "image_names = [os.path.split(f)[1].rpartition('.')[0] for f in images]\n",
    "\n",
    "log_msg(f'Loading some images: {images[:5]}', Severity.DEBUG)\n",
    "np_images = preprocess_images(images[:100], vgg16.preprocess_input)"
   ]
  },
  {
   "cell_type": "code",
   "execution_count": null,
   "metadata": {},
   "outputs": [],
   "source": [
    "model = vgg16.VGG16()\n",
    "yhat = model.predict(np_images)\n",
    "predictions = vgg16.decode_predictions(yhat)"
   ]
  },
  {
   "cell_type": "code",
   "execution_count": null,
   "metadata": {},
   "outputs": [],
   "source": [
    "print('Top Predictions by vgg16')\n",
    "print('-'*40)\n",
    "for ndx, name in enumerate(image_names):\n",
    "    print(f'{name}: {predictions[ndx][0][1]}')"
   ]
  },
  {
   "cell_type": "code",
   "execution_count": null,
   "metadata": {},
   "outputs": [],
   "source": []
  }
 ],
 "metadata": {
  "kernelspec": {
   "display_name": "Python 3",
   "language": "python",
   "name": "python3"
  },
  "language_info": {
   "codemirror_mode": {
    "name": "ipython",
    "version": 3
   },
   "file_extension": ".py",
   "mimetype": "text/x-python",
   "name": "python",
   "nbconvert_exporter": "python",
   "pygments_lexer": "ipython3",
   "version": "3.7.9"
  }
 },
 "nbformat": 4,
 "nbformat_minor": 4
}
