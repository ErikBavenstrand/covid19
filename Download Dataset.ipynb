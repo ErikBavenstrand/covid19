{
 "cells": [
  {
   "cell_type": "markdown",
   "metadata": {},
   "source": [
    "# Download the Following in root dir"
   ]
  },
  {
   "cell_type": "code",
   "execution_count": 7,
   "metadata": {},
   "outputs": [
    {
     "name": "stdout",
     "output_type": "stream",
     "text": [
      "Cloning into 'covid-chestxray-dataset'...\n",
      "remote: Enumerating objects: 15, done.\u001b[K\n",
      "remote: Counting objects: 100% (15/15), done.\u001b[K\n",
      "remote: Compressing objects: 100% (10/10), done.\u001b[K\n",
      "remote: Total 3614 (delta 7), reused 11 (delta 5), pack-reused 3599\u001b[K\n",
      "Receiving objects: 100% (3614/3614), 633.00 MiB | 8.26 MiB/s, done.\n",
      "Resolving deltas: 100% (1430/1430), done.\n",
      "Updating files: 100% (1173/1173), done.\n"
     ]
    }
   ],
   "source": [
    "!git clone https://github.com/ieee8023/covid-chestxray-dataset.git"
   ]
  },
  {
   "cell_type": "code",
   "execution_count": 8,
   "metadata": {},
   "outputs": [
    {
     "name": "stdout",
     "output_type": "stream",
     "text": [
      "Cloning into 'Figure1-COVID-chestxray-dataset'...\n",
      "remote: Enumerating objects: 112, done.\u001b[K\n",
      "remote: Counting objects: 100% (112/112), done.\u001b[K\n",
      "remote: Compressing objects: 100% (97/97), done.\u001b[K\n",
      "remote: Total 112 (delta 28), reused 95 (delta 14), pack-reused 0\u001b[K\n",
      "Receiving objects: 100% (112/112), 14.13 MiB | 12.96 MiB/s, done.\n",
      "Resolving deltas: 100% (28/28), done.\n"
     ]
    }
   ],
   "source": [
    "!git clone https://github.com/agchung/Figure1-COVID-chestxray-dataset.git"
   ]
  },
  {
   "cell_type": "code",
   "execution_count": 9,
   "metadata": {},
   "outputs": [
    {
     "name": "stdout",
     "output_type": "stream",
     "text": [
      "Cloning into 'Actualmed-COVID-chestxray-dataset'...\n",
      "remote: Enumerating objects: 10, done.\u001b[K\n",
      "remote: Counting objects: 100% (10/10), done.\u001b[K\n",
      "remote: Compressing objects: 100% (9/9), done.\u001b[K\n",
      "remote: Total 422 (delta 1), reused 6 (delta 1), pack-reused 412\u001b[K\n",
      "Receiving objects: 100% (422/422), 1.56 GiB | 9.76 MiB/s, done.\n",
      "Resolving deltas: 100% (16/16), done.\n",
      "Updating files: 100% (240/240), done.\n"
     ]
    }
   ],
   "source": [
    "!git clone https://github.com/agchung/Actualmed-COVID-chestxray-dataset.git"
   ]
  },
  {
   "cell_type": "markdown",
   "metadata": {},
   "source": [
    "Download https://www.kaggle.com/tawsifurrahman/covid19-radiography-database\n",
    "\n",
    "Download https://www.kaggle.com/c/rsna-pneumonia-detection-challenge/data"
   ]
  },
  {
   "cell_type": "code",
   "execution_count": 90,
   "metadata": {},
   "outputs": [],
   "source": [
    "import numpy as np\n",
    "import pandas as pd\n",
    "import os\n",
    "import random \n",
    "from shutil import copyfile\n",
    "import pydicom as dicom\n",
    "import cv2\n",
    "import glob\n",
    "from PIL import Image, ImageOps"
   ]
  },
  {
   "cell_type": "code",
   "execution_count": 104,
   "metadata": {},
   "outputs": [],
   "source": [
    "# set parameters here\n",
    "savepath = 'data_covidx'\n",
    "seed = 0\n",
    "np.random.seed(seed) # Reset the seed so all runs are the same.\n",
    "random.seed(seed)\n",
    "MAXVAL = 255  # Range [0 255]\n",
    "\n",
    "# path to covid-19 dataset from https://github.com/ieee8023/covid-chestxray-dataset\n",
    "cohen_imgpath = './covid-chestxray-dataset/images'\n",
    "cohen_csvpath = './covid-chestxray-dataset/metadata.csv'\n",
    "\n",
    "# path to covid-19 dataset from https://github.com/agchung/Figure1-COVID-chestxray-dataset\n",
    "fig1_imgpath = './Figure1-COVID-chestxray-dataset/images'\n",
    "fig1_csvpath = './Figure1-COVID-chestxray-dataset/metadata.csv'\n",
    "\n",
    "# path to covid-19 dataset from https://github.com/agchung/Actualmed-COVID-chestxray-dataset\n",
    "actmed_imgpath = './Actualmed-COVID-chestxray-dataset/images'\n",
    "actmed_csvpath = './Actualmed-COVID-chestxray-dataset/metadata.csv'\n",
    "\n",
    "# path to covid-19 dataset from https://www.kaggle.com/tawsifurrahman/covid19-radiography-database\n",
    "sirm_imgpath = './COVID-19 Radiography Database/COVID-19'\n",
    "sirm_csvpath = './COVID-19 Radiography Database/COVID-19.metadata.xlsx'\n",
    "\n",
    "# path to https://www.kaggle.com/c/rsna-pneumonia-detection-challenge\n",
    "rsna_datapath = './rsna-pneumonia-detection-challenge'\n",
    "# get all the normal from here\n",
    "rsna_csvname = 'stage_2_detailed_class_info.csv' \n",
    "# get all the 1s from here since 1 indicate pneumonia\n",
    "# found that images that aren't pneunmonia and also not normal are classified as 0s\n",
    "rsna_csvname2 = 'stage_2_train_labels.csv' \n",
    "rsna_imgpath = 'stage_2_train_images'\n",
    "\n",
    "# parameters for COVIDx dataset\n",
    "train = []\n",
    "test = []\n",
    "test_count = {'noncovid': 0, 'covid': 0}\n",
    "train_count = {'noncovid': 0, 'covid': 0}\n",
    "\n",
    "mapping = dict()\n",
    "mapping['COVID-19'] = 'covid'\n",
    "mapping['SARS'] = 'noncovid'\n",
    "mapping['MERS'] = 'noncovid'\n",
    "mapping['Streptococcus'] = 'noncovid'\n",
    "mapping['Klebsiella'] = 'noncovid'\n",
    "mapping['Chlamydophila'] = 'noncovid'\n",
    "mapping['Legionella'] = 'noncovid'\n",
    "mapping['E.Coli'] = 'noncovid'\n",
    "mapping['Normal'] = 'noncovid'\n",
    "mapping['Lung Opacity'] = 'noncovid'\n",
    "mapping['1'] = 'noncovid'\n",
    "\n",
    "# train/test split\n",
    "split = 0.1\n",
    "\n",
    "# to avoid duplicates\n",
    "patient_imgpath = {}"
   ]
  },
  {
   "cell_type": "code",
   "execution_count": 52,
   "metadata": {},
   "outputs": [],
   "source": [
    "# adapted from https://github.com/mlmed/torchxrayvision/blob/master/torchxrayvision/datasets.py#L814\n",
    "cohen_csv = pd.read_csv(cohen_csvpath, nrows=None)\n",
    "#idx_pa = csv[\"view\"] == \"PA\"  # Keep only the PA view\n",
    "views = [\"PA\", \"AP\", \"AP Supine\", \"AP semi erect\", \"AP erect\"]\n",
    "cohen_idx_keep = cohen_csv.view.isin(views)\n",
    "cohen_csv = cohen_csv[cohen_idx_keep]\n",
    "\n",
    "fig1_csv = pd.read_csv(fig1_csvpath, encoding='ISO-8859-1', nrows=None)\n",
    "actmed_csv = pd.read_csv(actmed_csvpath, nrows=None)\n",
    "\n",
    "sirm_csv = pd.read_excel(sirm_csvpath)"
   ]
  },
  {
   "cell_type": "code",
   "execution_count": 53,
   "metadata": {},
   "outputs": [
    {
     "name": "stdout",
     "output_type": "stream",
     "text": [
      "Data distribution from covid datasets:\n",
      "{'noncovid': 57, 'covid': 617}\n"
     ]
    }
   ],
   "source": [
    "# get non-COVID19 viral, bacteria, and COVID-19 infections from covid-chestxray-dataset, figure1 and actualmed\n",
    "# stored as patient id, image filename and label\n",
    "filename_label = {'noncovid': [], 'covid': []}\n",
    "count = {'noncovid': 0, 'covid': 0}\n",
    "covid_ds = {'cohen': [], 'fig1': [], 'actmed': [], 'sirm': []}\n",
    "\n",
    "for index, row in cohen_csv.iterrows():\n",
    "    f = row['finding'].split('/')[-1] # take final finding in hierarchy, for the case of COVID-19, ARDS\n",
    "    if f in mapping: # \n",
    "        count[mapping[f]] += 1\n",
    "        entry = [str(row['patientid']), row['filename'], mapping[f], 'cohen']\n",
    "        filename_label[mapping[f]].append(entry)\n",
    "        if mapping[f] == 'covid':\n",
    "            covid_ds['cohen'].append(str(row['patientid']))\n",
    "        \n",
    "for index, row in fig1_csv.iterrows():\n",
    "    if not str(row['finding']) == 'nan':\n",
    "        f = row['finding'].split(',')[0] # take the first finding\n",
    "        if f in mapping: # \n",
    "            count[mapping[f]] += 1\n",
    "            if os.path.exists(os.path.join(fig1_imgpath, row['patientid'] + '.jpg')):\n",
    "                entry = [row['patientid'], row['patientid'] + '.jpg', mapping[f], 'fig1']\n",
    "            elif os.path.exists(os.path.join(fig1_imgpath, row['patientid'] + '.png')):\n",
    "                entry = [row['patientid'], row['patientid'] + '.png', mapping[f], 'fig1']\n",
    "            filename_label[mapping[f]].append(entry)\n",
    "            if mapping[f] == 'covid':\n",
    "                covid_ds['fig1'].append(row['patientid'])\n",
    "\n",
    "for index, row in actmed_csv.iterrows():\n",
    "    if not str(row['finding']) == 'nan':\n",
    "        f = row['finding'].split(',')[0]\n",
    "        if f in mapping:\n",
    "            count[mapping[f]] += 1\n",
    "            entry = [row['patientid'], row['imagename'], mapping[f], 'actmed']\n",
    "            filename_label[mapping[f]].append(entry)\n",
    "            if mapping[f] == 'covid':\n",
    "                covid_ds['actmed'].append(row['patientid'])\n",
    "    \n",
    "sirm = set(sirm_csv['URL'])\n",
    "cohen = set(cohen_csv['url'])\n",
    "discard = ['100', '101', '102', '103', '104', '105', \n",
    "           '110', '111', '112', '113', '122', '123', \n",
    "           '124', '125', '126', '217']\n",
    "\n",
    "for idx, row in sirm_csv.iterrows():\n",
    "    patientid = row['FILE NAME']\n",
    "    if row['URL'] not in cohen and patientid[patientid.find('(')+1:patientid.find(')')] not in discard:\n",
    "        count[mapping['COVID-19']] += 1\n",
    "        imagename = patientid + '.' + row['FORMAT'].lower()\n",
    "        if not os.path.exists(os.path.join(sirm_imgpath, imagename)):\n",
    "            imagename = patientid.split('(')[0] + ' ('+ patientid.split('(')[1] + '.' + row['FORMAT'].lower()\n",
    "        entry = [patientid, imagename, mapping['COVID-19'], 'sirm']\n",
    "        filename_label[mapping['COVID-19']].append(entry)\n",
    "        covid_ds['sirm'].append(patientid)\n",
    "    \n",
    "print('Data distribution from covid datasets:')\n",
    "print(count)"
   ]
  },
  {
   "cell_type": "code",
   "execution_count": 54,
   "metadata": {
    "scrolled": false
   },
   "outputs": [
    {
     "name": "stdout",
     "output_type": "stream",
     "text": [
      "Key:  noncovid\n",
      "Test patients:  ['8', '31']\n",
      "Key:  covid\n",
      "Test patients:  ['19', '20', '36', '42', '86', '94', '97', '117', '132', '138', '144', '150', '163', '169', '174', '175', '179', '190', '191COVID-00024', 'COVID-00025', 'COVID-00026', 'COVID-00027', 'COVID-00029', 'COVID-00030', 'COVID-00032', 'COVID-00033', 'COVID-00035', 'COVID-00036', 'COVID-00037', 'COVID-00038', 'ANON24', 'ANON45', 'ANON126', 'ANON106', 'ANON67', 'ANON153', 'ANON135', 'ANON44', 'ANON29', 'ANON201', 'ANON191', 'ANON234', 'ANON110', 'ANON112', 'ANON73', 'ANON220', 'ANON189', 'ANON30', 'ANON53', 'ANON46', 'ANON218', 'ANON240', 'ANON100', 'ANON237', 'ANON158', 'ANON174', 'ANON19', 'ANON195', 'COVID-19(119)', 'COVID-19(87)', 'COVID-19(70)', 'COVID-19(94)', 'COVID-19(215)', 'COVID-19(77)', 'COVID-19(213)', 'COVID-19(81)', 'COVID-19(216)', 'COVID-19(72)', 'COVID-19(106)', 'COVID-19(131)', 'COVID-19(107)', 'COVID-19(116)', 'COVID-19(95)', 'COVID-19(214)', 'COVID-19(129)']\n",
      "test count:  {'noncovid': 5, 'covid': 100}\n",
      "train count:  {'noncovid': 52, 'covid': 517}\n"
     ]
    }
   ],
   "source": [
    "# add covid-chestxray-dataset, figure1 and actualmed into COVIDx dataset\n",
    "# since these datasets don't have test dataset, split into train/test by patientid\n",
    "# for covid-chestxray-dataset:\n",
    "# patient 8 is used as non-COVID19 viral test\n",
    "# patient 31 is used as bacterial test\n",
    "# patients 19, 20, 36, 42, 86 are used as COVID-19 viral test\n",
    "# for figure 1:\n",
    "# patients 24, 25, 27, 29, 30, 32, 33, 36, 37, 38\n",
    "\n",
    "ds_imgpath = {\n",
    "    \"cohen\": cohen_imgpath,\n",
    "    \"fig1\": fig1_imgpath,\n",
    "    \"actmed\": actmed_imgpath,\n",
    "    \"sirm\": sirm_imgpath,\n",
    "}\n",
    "\n",
    "for key in filename_label.keys():\n",
    "    arr = np.array(filename_label[key])\n",
    "    if arr.size == 0:\n",
    "        continue\n",
    "    # split by patients\n",
    "    # num_diff_patients = len(np.unique(arr[:,0]))\n",
    "    # num_test = max(1, round(split*num_diff_patients))\n",
    "    # select num_test number of random patients\n",
    "    # random.sample(list(arr[:,0]), num_test)\n",
    "    if key == \"noncovid\":\n",
    "        test_patients = [\"8\", \"31\"]\n",
    "    elif key == \"covid\":\n",
    "        test_patients = [\n",
    "            \"19\",\n",
    "            \"20\",\n",
    "            \"36\",\n",
    "            \"42\",\n",
    "            \"86\",\n",
    "            \"94\",\n",
    "            \"97\",\n",
    "            \"117\",\n",
    "            \"132\",\n",
    "            \"138\",\n",
    "            \"144\",\n",
    "            \"150\",\n",
    "            \"163\",\n",
    "            \"169\",\n",
    "            \"174\",\n",
    "            \"175\",\n",
    "            \"179\",\n",
    "            \"190\",\n",
    "            \"191\" \"COVID-00024\",\n",
    "            \"COVID-00025\",\n",
    "            \"COVID-00026\",\n",
    "            \"COVID-00027\",\n",
    "            \"COVID-00029\",\n",
    "            \"COVID-00030\",\n",
    "            \"COVID-00032\",\n",
    "            \"COVID-00033\",\n",
    "            \"COVID-00035\",\n",
    "            \"COVID-00036\",\n",
    "            \"COVID-00037\",\n",
    "            \"COVID-00038\",\n",
    "            \"ANON24\",\n",
    "            \"ANON45\",\n",
    "            \"ANON126\",\n",
    "            \"ANON106\",\n",
    "            \"ANON67\",\n",
    "            \"ANON153\",\n",
    "            \"ANON135\",\n",
    "            \"ANON44\",\n",
    "            \"ANON29\",\n",
    "            \"ANON201\",\n",
    "            \"ANON191\",\n",
    "            \"ANON234\",\n",
    "            \"ANON110\",\n",
    "            \"ANON112\",\n",
    "            \"ANON73\",\n",
    "            \"ANON220\",\n",
    "            \"ANON189\",\n",
    "            \"ANON30\",\n",
    "            \"ANON53\",\n",
    "            \"ANON46\",\n",
    "            \"ANON218\",\n",
    "            \"ANON240\",\n",
    "            \"ANON100\",\n",
    "            \"ANON237\",\n",
    "            \"ANON158\",\n",
    "            \"ANON174\",\n",
    "            \"ANON19\",\n",
    "            \"ANON195\",\n",
    "            \"COVID-19(119)\",\n",
    "            \"COVID-19(87)\",\n",
    "            \"COVID-19(70)\",\n",
    "            \"COVID-19(94)\",\n",
    "            \"COVID-19(215)\",\n",
    "            \"COVID-19(77)\",\n",
    "            \"COVID-19(213)\",\n",
    "            \"COVID-19(81)\",\n",
    "            \"COVID-19(216)\",\n",
    "            \"COVID-19(72)\",\n",
    "            \"COVID-19(106)\",\n",
    "            \"COVID-19(131)\",\n",
    "            \"COVID-19(107)\",\n",
    "            \"COVID-19(116)\",\n",
    "            \"COVID-19(95)\",\n",
    "            \"COVID-19(214)\",\n",
    "            \"COVID-19(129)\",\n",
    "        ]\n",
    "    else:\n",
    "        test_patients = []\n",
    "    print(\"Key: \", key)\n",
    "    print(\"Test patients: \", test_patients)\n",
    "    # go through all the patients\n",
    "    for patient in arr:\n",
    "        if patient[0] not in patient_imgpath:\n",
    "            patient_imgpath[patient[0]] = [patient[1]]\n",
    "        else:\n",
    "            if patient[1] not in patient_imgpath[patient[0]]:\n",
    "                patient_imgpath[patient[0]].append(patient[1])\n",
    "            else:\n",
    "                continue  # skip since image has already been written\n",
    "        if patient[0] in test_patients:\n",
    "            if patient[3] == \"sirm\":\n",
    "                image = cv2.imread(os.path.join(ds_imgpath[patient[3]], patient[1]))\n",
    "                gray = cv2.cvtColor(image, cv2.COLOR_BGR2GRAY)\n",
    "                patient[1] = patient[1].replace(\" \", \"\")\n",
    "                cv2.imwrite(\n",
    "                    os.path.join(savepath, \"test\", patient[2], patient[1]),\n",
    "                    gray,\n",
    "                )\n",
    "            else:\n",
    "                copyfile(\n",
    "                    os.path.join(ds_imgpath[patient[3]], patient[1]),\n",
    "                    os.path.join(savepath, \"test\", patient[2], patient[1]),\n",
    "                )\n",
    "            test.append(patient)\n",
    "            test_count[patient[2]] += 1\n",
    "        else:\n",
    "            if patient[3] == \"sirm\":\n",
    "                image = cv2.imread(os.path.join(ds_imgpath[patient[3]], patient[1]))\n",
    "                gray = cv2.cvtColor(image, cv2.COLOR_BGR2GRAY)\n",
    "                patient[1] = patient[1].replace(\" \", \"\")\n",
    "                cv2.imwrite(\n",
    "                    os.path.join(savepath, \"train\", patient[2], patient[1]),\n",
    "                    gray,\n",
    "                )\n",
    "            else:\n",
    "                copyfile(\n",
    "                    os.path.join(ds_imgpath[patient[3]], patient[1]),\n",
    "                    os.path.join(savepath, \"train\", patient[2], patient[1]),\n",
    "                )\n",
    "            train.append(patient)\n",
    "            train_count[patient[2]] += 1\n",
    "\n",
    "print(\"test count: \", test_count)\n",
    "print(\"train count: \", train_count)"
   ]
  },
  {
   "cell_type": "code",
   "execution_count": 61,
   "metadata": {},
   "outputs": [
    {
     "name": "stdout",
     "output_type": "stream",
     "text": [
      "test count:  {'noncovid': 1479, 'covid': 100}\n",
      "train count:  {'noncovid': 13440, 'covid': 517}\n"
     ]
    }
   ],
   "source": [
    "# add normal and rest of pneumonia cases from https://www.kaggle.com/c/rsna-pneumonia-detection-challenge\n",
    "csv_normal = pd.read_csv(os.path.join(rsna_datapath, rsna_csvname), nrows=None)\n",
    "csv_pneu = pd.read_csv(os.path.join(rsna_datapath, rsna_csvname2), nrows=None)\n",
    "patients = {'normal': [], 'pneumonia': []}\n",
    "\n",
    "for index, row in csv_normal.iterrows():\n",
    "    if row['class'] == 'Normal':\n",
    "        patients['normal'].append(row['patientId'])\n",
    "\n",
    "for index, row in csv_pneu.iterrows():\n",
    "    if int(row['Target']) == 1:\n",
    "        patients['pneumonia'].append(row['patientId'])\n",
    "\n",
    "for key in patients.keys():\n",
    "    arr = np.array(patients[key])\n",
    "    if arr.size == 0:\n",
    "        continue\n",
    "    # split by patients \n",
    "    # num_diff_patients = len(np.unique(arr))\n",
    "    # num_test = max(1, round(split*num_diff_patients))\n",
    "    test_patients = np.load('rsna_test_patients_{}.npy'.format(key)) # random.sample(list(arr), num_test), download the .npy files from the repo.\n",
    "    # np.save('rsna_test_patients_{}.npy'.format(key), np.array(test_patients))\n",
    "    for patient in arr:\n",
    "        if patient not in patient_imgpath:\n",
    "            patient_imgpath[patient] = [patient]\n",
    "        else:\n",
    "            continue  # skip since image has already been written\n",
    "                \n",
    "        ds = dicom.dcmread(os.path.join(rsna_datapath, rsna_imgpath, patient + '.dcm'))\n",
    "        pixel_array_numpy = ds.pixel_array\n",
    "        imgname = patient + '.png'\n",
    "        if patient in test_patients:\n",
    "            cv2.imwrite(os.path.join(savepath, 'test', \"noncovid\", imgname), pixel_array_numpy)\n",
    "            test.append([patient, imgname, key, 'rsna'])\n",
    "            test_count[\"noncovid\"] += 1\n",
    "        else:\n",
    "            cv2.imwrite(os.path.join(savepath, 'train', \"noncovid\", imgname), pixel_array_numpy)\n",
    "            train.append([patient, imgname, key, 'rsna'])\n",
    "            train_count[\"noncovid\"] += 1\n",
    "\n",
    "print('test count: ', test_count)\n",
    "print('train count: ', train_count)"
   ]
  },
  {
   "cell_type": "code",
   "execution_count": 62,
   "metadata": {},
   "outputs": [
    {
     "name": "stdout",
     "output_type": "stream",
     "text": [
      "Final stats\n",
      "Train count:  {'noncovid': 13440, 'covid': 517}\n",
      "Test count:  {'noncovid': 1479, 'covid': 100}\n",
      "Total length of train:  13958\n",
      "Total length of test:  1579\n"
     ]
    }
   ],
   "source": [
    "# final stats\n",
    "print('Final stats')\n",
    "print('Train count: ', train_count)\n",
    "print('Test count: ', test_count)\n",
    "print('Total length of train: ', len(train))\n",
    "print('Total length of test: ', len(test))"
   ]
  },
  {
   "cell_type": "code",
   "execution_count": 94,
   "metadata": {},
   "outputs": [],
   "source": [
    "imgs_path = glob.glob(savepath+'/**/*.*', recursive=True)\n",
    "\n",
    "for file in imgs_path:\n",
    "    file_name = os.path.basename(file)\n",
    "    im = Image.open(file)\n",
    "    im = im.resize((224, 224))\n",
    "    im = ImageOps.grayscale(im)\n",
    "    os.remove(file)\n",
    "    im.save(''.join(file.split('.')[:-1])+'.jpg')"
   ]
  },
  {
   "cell_type": "code",
   "execution_count": 107,
   "metadata": {},
   "outputs": [
    {
     "data": {
      "text/plain": [
       "13957"
      ]
     },
     "execution_count": 107,
     "metadata": {},
     "output_type": "execute_result"
    }
   ],
   "source": [
    "len(glob.glob(savepath+'/train/**/*.*', recursive=True))"
   ]
  },
  {
   "cell_type": "code",
   "execution_count": null,
   "metadata": {},
   "outputs": [],
   "source": []
  }
 ],
 "metadata": {
  "kernelspec": {
   "display_name": "science",
   "language": "python",
   "name": "sci"
  },
  "language_info": {
   "codemirror_mode": {
    "name": "ipython",
    "version": 3
   },
   "file_extension": ".py",
   "mimetype": "text/x-python",
   "name": "python",
   "nbconvert_exporter": "python",
   "pygments_lexer": "ipython3",
   "version": "3.8.2"
  },
  "toc": {
   "base_numbering": 1,
   "nav_menu": {},
   "number_sections": true,
   "sideBar": true,
   "skip_h1_title": false,
   "title_cell": "Table of Contents",
   "title_sidebar": "Contents",
   "toc_cell": false,
   "toc_position": {},
   "toc_section_display": true,
   "toc_window_display": false
  }
 },
 "nbformat": 4,
 "nbformat_minor": 4
}
