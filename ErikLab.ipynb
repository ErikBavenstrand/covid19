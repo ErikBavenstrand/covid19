{
 "cells": [
  {
   "cell_type": "markdown",
   "metadata": {},
   "source": [
    "# Imports"
   ]
  },
  {
   "cell_type": "code",
   "execution_count": 30,
   "metadata": {},
   "outputs": [],
   "source": [
    "import matplotlib.pyplot as plt\n",
    "import numpy as np\n",
    "import glob\n",
    "import os\n",
    "import shutil\n",
    "import cv2\n",
    "from PIL import ImageOps, Image\n",
    "import PIL.Image as pil_image\n",
    "\n",
    "import numpy as np\n",
    "import nibabel as nib\n",
    "import pydicom\n",
    "import SimpleITK as sitk\n",
    "from skimage.transform import resize"
   ]
  },
  {
   "cell_type": "code",
   "execution_count": 31,
   "metadata": {},
   "outputs": [],
   "source": [
    "def json_to_dict(p):\n",
    "    dti = dict()\n",
    "    path = p.split(\"/\")\n",
    "    modality = path[-1].replace(\".png\", \"\").split(\"_\")[-1]\n",
    "    dti[\"Subject\"] = path[0]\n",
    "    dti[\"Session\"] = path[1]\n",
    "    dti[\"mod\"] = path[2]\n",
    "    dti[\"File\"] = path[3]\n",
    "    dti[\"Type\"] = modality\n",
    "    dti[\"Path\"] = p\n",
    "    json_file = p.replace(\".png\", \".json\").replace(\".nii.gz\", \".json\")\n",
    "    if os.path.exists(json_file):\n",
    "        with open(json_file) as f:\n",
    "            dtij = json.load(f)\n",
    "        for l in dtij.keys():\n",
    "            if \"Value\" in dtij[l].keys():\n",
    "                try:\n",
    "                    dti[pydicom.datadict.dictionary_description(str(l))] = dtij[l][\n",
    "                        \"Value\"\n",
    "                    ]\n",
    "                except:\n",
    "                    dti[str(l)] = dtij[l][\"Value\"]\n",
    "    else:\n",
    "        print(p)\n",
    "    return dti\n",
    "\n",
    "\n",
    "def get_image(img_path, dti):\n",
    "    img = sitk_img = sitk.ReadImage(img_path)\n",
    "    img = sitk.GetArrayFromImage(sitk_img)\n",
    "    if dti[\"Photometric Interpretation\"][0] == \"MONOCHROME1\":\n",
    "        img = -img\n",
    "    imgl = min(img.shape[0], img.shape[1])\n",
    "    imgl = int((imgl - imgl % 2) / 2)\n",
    "    imgc = img[\n",
    "        int(img.shape[0] / 2 - imgl) : int(img.shape[0] / 2 + imgl),\n",
    "        int(img.shape[1] / 2 - imgl) : int(img.shape[1] / 2 + imgl),\n",
    "    ]\n",
    "    imgc = (\n",
    "        1.0\n",
    "        * (imgc - np.min(np.ravel(imgc)))\n",
    "        / (np.max(np.ravel(imgc)) - np.min(np.ravel(imgc)))\n",
    "    )\n",
    "    test = (\n",
    "        (\n",
    "            (imgc[:, :] - np.min(np.ravel(imgc)))\n",
    "            / (np.max(np.ravel(imgc)) - np.min(np.ravel(imgc)))\n",
    "        )\n",
    "        * (2 ** 16 - 1)\n",
    "    ).astype(np.uint16)\n",
    "    return test"
   ]
  },
  {
   "cell_type": "code",
   "execution_count": 44,
   "metadata": {},
   "outputs": [
    {
     "data": {
      "text/plain": [
       "499"
      ]
     },
     "execution_count": 44,
     "metadata": {},
     "output_type": "execute_result"
    }
   ],
   "source": [
    "len(glob.glob(\"bimcv_covid19_posi_subjects_*/*/*/*/*.png\"))"
   ]
  },
  {
   "cell_type": "code",
   "execution_count": 27,
   "metadata": {
    "scrolled": false
   },
   "outputs": [
    {
     "name": "stdout",
     "output_type": "stream",
     "text": [
      "bimcv_covid19_posi_subjects_2/sub-S03092/ses-E07943/mod-rx/sub-S03092_ses-E07943_acq-1_run-1_bp-chest_cr.png\n",
      "bimcv_covid19_posi_subjects_2/sub-S03111/ses-E06818/mod-rx/sub-S03111_ses-E06818_acq-1_run-1_bp-chest_vp-ll_dx.png\n",
      "bimcv_covid19_posi_subjects_2/sub-S03088/ses-E06603/mod-rx/sub-S03088_ses-E06603_acq-1_run-1_bp-chest_vp-pa_dx.png\n",
      "bimcv_covid19_posi_subjects_2/sub-S03107/ses-E06897/mod-rx/sub-S03107_ses-E06897_acq-1_run-1_bp-chest_vp-pa_dx.png\n",
      "bimcv_covid19_posi_subjects_2/sub-S03110/ses-E07026/mod-rx/sub-S03110_ses-E07026_acq-1_run-1_bp-chest_vp-ll_dx.png\n",
      "bimcv_covid19_posi_subjects_2/sub-S03106/ses-E06431/mod-rx/sub-S03106_ses-E06431_acq-1_run-1_bp-chest_vp-pa_dx.png\n",
      "bimcv_covid19_posi_subjects_2/sub-S03106/ses-E06683/mod-rx/sub-S03106_ses-E06683_acq-1_run-1_bp-chest_vp-ll_dx.png\n",
      "bimcv_covid19_posi_subjects_2/sub-S03090/ses-E06889/mod-rx/sub-S03090_ses-E06889_acq-1_run-1_bp-chest_vp-pa_dx.png\n",
      "bimcv_covid19_posi_subjects_2/sub-S03100/ses-E06605/mod-rx/sub-S03100_ses-E06605_acq-1_run-1_bp-chest_vp-pa_dx.png\n",
      "bimcv_covid19_posi_subjects_2/sub-S03100/ses-E06629/mod-rx/sub-S03100_ses-E06629_acq-1_run-1_bp-chest_vp-ll_dx.png\n",
      "bimcv_covid19_posi_subjects_2/sub-S03100/ses-E06547/mod-rx/sub-S03100_ses-E06547_acq-1_run-1_bp-chest_vp-ll_dx.png\n",
      "bimcv_covid19_posi_subjects_1/sub-S03061/ses-E06386/mod-rx/sub-S03061_ses-E06386_acq-1_run-1_bp-chest_vp-pa_dx.png\n",
      "bimcv_covid19_posi_subjects_1/sub-S03049/ses-E06476/mod-rx/sub-S03049_ses-E06476_acq-1_run-1_bp-chest_vp-ll_dx.png\n",
      "bimcv_covid19_posi_subjects_1/sub-S03049/ses-E06143/mod-rx/sub-S03049_ses-E06143_acq-1_run-1_bp-chest_vp-ap_dx.png\n",
      "bimcv_covid19_posi_subjects_1/sub-S03070/ses-E06602/mod-rx/sub-S03070_ses-E06602_acq-1_run-1_bp-chest_vp-ll_dx.png\n",
      "bimcv_covid19_posi_subjects_1/sub-S03058/ses-E06797/mod-rx/sub-S03058_ses-E06797_acq-1_run-1_bp-chest_vp-ll_dx.png\n",
      "bimcv_covid19_posi_subjects_1/sub-S03045/ses-E06910/mod-rx/sub-S03045_ses-E06910_acq-1_run-1_bp-chest_vp-ll_dx.png\n",
      "bimcv_covid19_posi_subjects_1/sub-S03063/ses-E06157/mod-rx/sub-S03063_ses-E06157_acq-1_run-1_bp-chest_vp-ll_dx.png\n",
      "bimcv_covid19_posi_subjects_1/sub-S03071/ses-E06872/mod-rx/sub-S03071_ses-E06872_acq-1_run-1_bp-chest_vp-ap_cr.png\n",
      "bimcv_covid19_posi_subjects_1/sub-S03065/ses-E06938/mod-rx/sub-S03065_ses-E06938_acq-1_run-1_bp-chest_vp-pa_dx.png\n",
      "bimcv_covid19_posi_subjects_1/sub-S03046/ses-E06217/mod-rx/sub-S03046_ses-E06217_acq-1_run-1_bp-chest_vp-ap_cr.png\n",
      "bimcv_covid19_posi_subjects_1/sub-S03057/ses-E06221/mod-rx/sub-S03057_ses-E06221_acq-1_run-1_bp-chest_vp-ap_cr.png\n",
      "bimcv_covid19_posi_subjects_1/sub-S03078/ses-E06668/mod-rx/sub-S03078_ses-E06668_acq-1_run-1_bp-chest_vp-pa_dx.png\n",
      "bimcv_covid19_posi_subjects_1/sub-S03078/ses-E06880/mod-rx/sub-S03078_ses-E06880_acq-1_run-1_bp-chest_vp-pa_dx.png\n",
      "bimcv_covid19_posi_subjects_1/sub-S03074/ses-E07144/mod-rx/sub-S03074_ses-E07144_acq-1_run-1_bp-chest_vp-ap_cr.png\n",
      "bimcv_covid19_posi_subjects_1/sub-S03052/ses-E06911/mod-rx/sub-S03052_ses-E06911_acq-1_run-1_bp-chest_vp-ll_dx.png\n",
      "bimcv_covid19_posi_subjects_1/sub-S03082/ses-E06407/mod-rx/sub-S03082_ses-E06407_acq-1_run-1_bp-chest_vp-ll_dx.png\n",
      "bimcv_covid19_posi_subjects_3/sub-S03131/ses-E06540/mod-rx/sub-S03131_ses-E06540_acq-1_run-1_bp-chest_vp-pa_dx.png\n",
      "bimcv_covid19_posi_subjects_3/sub-S03124/ses-E06664/mod-rx/sub-S03124_ses-E06664_acq-1_run-1_bp-chest_vp-ll_dx.png\n",
      "bimcv_covid19_posi_subjects_3/sub-S03152/ses-E06869/mod-rx/sub-S03152_ses-E06869_acq-1_run-1_bp-chest_vp-pa_dx.png\n",
      "bimcv_covid19_posi_subjects_3/sub-S03151/ses-E06965/mod-rx/sub-S03151_ses-E06965_acq-1_run-1_bp-chest_vp-ll_dx.png\n"
     ]
    }
   ],
   "source": [
    "positive_covid = glob.glob(\"bimcv_covid19_posi_subjects_*/*/*/*/*.png\")\n",
    "dest_path = \"./data_valencia/covid/\"\n",
    "\n",
    "for file in positive_covid:\n",
    "    file_name = os.path.basename(file)\n",
    "    dti = json_to_dict(file)\n",
    "    if 'Modality' in dti.keys():\n",
    "        if dti['Modality'][0] == 'DX' or dti['Modality'][0] == 'CR':\n",
    "            try:\n",
    "                img = get_image(file, dti)\n",
    "                img = pil_image.fromarray(img / 255)\n",
    "                img = img.convert(\"L\")\n",
    "                img = img.resize((224, 224))\n",
    "                img = ImageOps.grayscale(img)\n",
    "                img.save(os.path.join(dest_path, file_name))\n",
    "            except:\n",
    "                continue"
   ]
  },
  {
   "cell_type": "code",
   "execution_count": 46,
   "metadata": {},
   "outputs": [
    {
     "name": "stdout",
     "output_type": "stream",
     "text": [
      "bimcv_covid19_neg_subjects_11/sub-S04680/ses-E14001/mod-rx/sub-S04680_ses-E14001_acq-1_run-1_bp-chest_vp-pa_dx.png\n",
      "bimcv_covid19_neg_subjects_11/sub-S04681/ses-E09168/mod-rx/sub-S04681_ses-E09168_acq-1_run-1_bp-chest_vp-pa_dx.png\n",
      "bimcv_covid19_neg_subjects_11/sub-S04678/ses-E09165/mod-rx/sub-S04678_ses-E09165_acq-1_run-1_bp-chest_vp-pa_dx.png\n",
      "bimcv_covid19_neg_subjects_8/sub-S04635/ses-E11257/mod-rx/sub-S04635_ses-E11257_acq-1_run-1_bp-chest_vp-pa_dx.png\n",
      "bimcv_covid19_neg_subjects_8/sub-S04628/ses-E09099/mod-rx/sub-S04628_ses-E09099_acq-1_run-1_bp-chest_dx.png\n",
      "bimcv_covid19_neg_subjects_8/sub-S04628/ses-E09099/mod-rx/sub-S04628_ses-E09099_acq-4_run-1_bp-chest_dx.png\n",
      "bimcv_covid19_neg_subjects_8/sub-S04628/ses-E09099/mod-rx/sub-S04628_ses-E09099_acq-2_run-1_bp-chest_dx.png\n",
      "bimcv_covid19_neg_subjects_8/sub-S04628/ses-E09099/mod-rx/sub-S04628_ses-E09099_acq-3_run-1_bp-chest_dx.png\n",
      "bimcv_covid19_neg_subjects_8/sub-S04628/ses-E09099/mod-rx/sub-S04628_ses-E09099_acq-5_run-1_bp-chest_dx.png\n",
      "bimcv_covid19_neg_subjects_8/sub-S04628/ses-E09100/mod-rx/sub-S04628_ses-E09100_acq-1_run-1_bp-chest_dx.png\n",
      "bimcv_covid19_neg_subjects_8/sub-S04638/ses-E11157/mod-rx/sub-S04638_ses-E11157_acq-1_run-1_bp-chest_vp-pa_dx.png\n",
      "bimcv_covid19_neg_subjects_8/sub-S04631/ses-E09102/mod-rx/sub-S04631_ses-E09102_acq-3_run-1_bp-chest_vp-pa_dx.png\n",
      "bimcv_covid19_neg_subjects_8/sub-S04631/ses-E09102/mod-rx/sub-S04631_ses-E09102_acq-4_run-1_bp-chest_vp-pa_dx.png\n",
      "bimcv_covid19_neg_subjects_8/sub-S04631/ses-E09102/mod-rx/sub-S04631_ses-E09102_acq-1_run-1_bp-chest_vp-pa_dx.png\n",
      "bimcv_covid19_neg_subjects_8/sub-S04631/ses-E09102/mod-rx/sub-S04631_ses-E09102_acq-2_run-1_bp-chest_vp-pa_dx.png\n",
      "bimcv_covid19_neg_subjects_8/sub-S04631/ses-E09102/mod-rx/sub-S04631_ses-E09102_acq-5_run-1_bp-chest_vp-pa_dx.png\n",
      "bimcv_covid19_neg_subjects_8/sub-S04640/ses-E09114/mod-rx/sub-S04640_ses-E09114_acq-1_run-1_bp-chest_vp-ll_dx.png\n",
      "bimcv_covid19_neg_subjects_8/sub-S04634/ses-E12096/mod-rx/sub-S04634_ses-E12096_acq-1_run-1_bp-chest_vp-pa_dx.png\n",
      "bimcv_covid19_neg_subjects_8/sub-S04630/ses-E11071/mod-rx/sub-S04630_ses-E11071_acq-1_run-1_bp-chest_vp-ap_dx.png\n",
      "bimcv_covid19_neg_subjects_8/sub-S04630/ses-E09101/mod-rx/sub-S04630_ses-E09101_acq-1_run-1_bp-chest_vp-pa_dx.png\n",
      "bimcv_covid19_neg_subjects_14/sub-S04727/ses-E09918/mod-rx/sub-S04727_ses-E09918_acq-1_run-1_bp-chest_vp-ap_dx.png\n",
      "bimcv_covid19_neg_subjects_14/sub-S04727/ses-E09918/mod-rx/sub-S04727_ses-E09918_acq-2_run-1_bp-chest_vp-ap_dx.png\n",
      "bimcv_covid19_neg_subjects_9/sub-S04644/ses-E10262/mod-rx/sub-S04644_ses-E10262_acq-1_run-1_bp-chest_vp-pa_dx.png\n",
      "bimcv_covid19_neg_subjects_9/sub-S04644/ses-E09119/mod-rx/sub-S04644_ses-E09119_acq-1_run-1_bp-chest_vp-pa_dx.png\n",
      "bimcv_covid19_neg_subjects_13/sub-S04704/ses-E09195/mod-rx/sub-S04704_ses-E09195_acq-1_run-1_bp-chest_vp-pa_dx.png\n",
      "bimcv_covid19_neg_subjects_13/sub-S04718/ses-E09210/mod-rx/sub-S04718_ses-E09210_acq-1_run-1_bp-chest_vp-pa_dx.png\n",
      "bimcv_covid19_neg_subjects_13/sub-S04718/ses-E09258/mod-rx/sub-S04718_ses-E09258_acq-1_run-1_bp-chest_vp-pa_dx.png\n",
      "bimcv_covid19_neg_subjects_13/sub-S04718/ses-E09988/mod-rx/sub-S04718_ses-E09988_acq-1_run-1_bp-chest_vp-pa_dx.png\n",
      "bimcv_covid19_neg_subjects_3/sub-S04560/ses-E09230/mod-rx/sub-S04560_ses-E09230_acq-1_run-1_bp-chest_vp-ll_dx.png\n",
      "bimcv_covid19_neg_subjects_2/sub-S04538/ses-E09003/mod-rx/sub-S04538_ses-E09003_acq-1_run-1_bp-chest_vp-pa_dx.png\n",
      "bimcv_covid19_neg_subjects_2/sub-S04548/ses-E09013/mod-rx/sub-S04548_ses-E09013_acq-1_run-1_bp-chest_vp-pa_dx.png\n",
      "bimcv_covid19_neg_subjects_12/sub-S04693/ses-E09182/mod-rx/sub-S04693_ses-E09182_acq-1_run-1_bp-chest_vp-pa_dx.png\n",
      "bimcv_covid19_neg_subjects_12/sub-S04695/ses-E09184/mod-rx/sub-S04695_ses-E09184_acq-1_run-1_bp-chest_vp-ap_dx.png\n",
      "bimcv_covid19_neg_subjects_12/sub-S04695/ses-E09184/mod-rx/sub-S04695_ses-E09184_acq-2_run-1_bp-chest_vp-ap_dx.png\n",
      "bimcv_covid19_neg_subjects_12/sub-S04697/ses-E09319/mod-rx/sub-S04697_ses-E09319_acq-1_run-1_bp-chest_cr.png\n",
      "bimcv_covid19_neg_subjects_5/sub-S04588/ses-E09057/mod-rx/sub-S04588_ses-E09057_acq-1_run-1_bp-chest_vp-pa_dx.png\n",
      "bimcv_covid19_neg_subjects_7/sub-S04618/ses-E09954/mod-rx/sub-S04618_ses-E09954_acq-1_run-1_bp-chest_vp-ll_dx.png\n",
      "bimcv_covid19_neg_subjects_7/sub-S04618/ses-E10481/mod-rx/sub-S04618_ses-E10481_acq-1_run-1_bp-chest_vp-pa_dx.png\n",
      "bimcv_covid19_neg_subjects_7/sub-S04622/ses-E09092/mod-rx/sub-S04622_ses-E09092_acq-1_run-1_bp-chest_vp-pa_dx.png\n",
      "bimcv_covid19_neg_subjects_10/sub-S04670/ses-E09155/mod-rx/sub-S04670_ses-E09155_acq-1_run-1_bp-chest_vp-pa_dx.png\n",
      "bimcv_covid19_neg_subjects_10/sub-S04668/ses-E09152/mod-rx/sub-S04668_ses-E09152_acq-1_run-1_bp-chest_vp-pa_dx.png\n",
      "bimcv_covid19_neg_subjects_1/sub-S04535/ses-E09000/mod-rx/sub-S04535_ses-E09000_acq-1_run-1_bp-chest_vp-pa_dx.png\n",
      "bimcv_covid19_neg_subjects_1/sub-S04523/ses-E08987/mod-rx/sub-S04523_ses-E08987_acq-1_run-1_bp-chest_vp-pa_dx.png\n"
     ]
    }
   ],
   "source": [
    "positive_covid = glob.glob(\"bimcv_covid19_neg_subjects_*/*/*/*/*.png\")\n",
    "dest_path = \"./data_valencia/noncovid/\"\n",
    "\n",
    "for file in positive_covid:\n",
    "    file_name = os.path.basename(file)\n",
    "    dti = json_to_dict(file)\n",
    "    if 'Modality' in dti.keys():\n",
    "        if dti['Modality'][0] == 'DX' or dti['Modality'][0] == 'CR':\n",
    "            try:\n",
    "                img = get_image(file, dti)\n",
    "                img = pil_image.fromarray(img / 255)\n",
    "                img = img.convert(\"L\")\n",
    "                img = img.resize((224, 224))\n",
    "                img = ImageOps.grayscale(img)\n",
    "                img.save(os.path.join(dest_path, file_name))\n",
    "            except:\n",
    "                continue"
   ]
  },
  {
   "cell_type": "code",
   "execution_count": 45,
   "metadata": {
    "scrolled": false,
    "tags": []
   },
   "outputs": [
    {
     "data": {
      "text/plain": [
       "507"
      ]
     },
     "execution_count": 45,
     "metadata": {},
     "output_type": "execute_result"
    }
   ],
   "source": [
    "len(glob.glob(\"bimcv_covid19_neg_subjects_*/*/*/*/*.png\"))"
   ]
  },
  {
   "cell_type": "code",
   "execution_count": 47,
   "metadata": {},
   "outputs": [
    {
     "data": {
      "text/plain": [
       "(1140, 1387)"
      ]
     },
     "execution_count": 47,
     "metadata": {},
     "output_type": "execute_result"
    }
   ],
   "source": [
    "img.shape"
   ]
  },
  {
   "cell_type": "code",
   "execution_count": 93,
   "metadata": {},
   "outputs": [],
   "source": [
    "import cv2\n",
    "img = cv2.imread('./testingbimcv/sub-S03086_ses-E06232_run-1_bp-chest_vp-ap_cr.png')\n",
    "\n",
    "gray = cv2.cvtColor(img, cv2.COLOR_BGR2GRAY)"
   ]
  },
  {
   "cell_type": "code",
   "execution_count": 49,
   "metadata": {
    "scrolled": true
   },
   "outputs": [
    {
     "data": {
      "text/plain": [
       "<matplotlib.image.AxesImage at 0x7fb36fc7b760>"
      ]
     },
     "execution_count": 49,
     "metadata": {},
     "output_type": "execute_result"
    },
    {
     "data": {
      "image/png": "[encoded data removed]",
      "text/plain": [
       "<Figure size 432x288 with 1 Axes>"
      ]
     },
     "metadata": {
      "needs_background": "light"
     },
     "output_type": "display_data"
    }
   ],
   "source": [
    "plt.imshow(test, cmap='gray')"
   ]
  },
  {
   "cell_type": "code",
   "execution_count": 50,
   "metadata": {},
   "outputs": [],
   "source": []
  },
  {
   "cell_type": "code",
   "execution_count": 83,
   "metadata": {},
   "outputs": [
    {
     "ename": "OSError",
     "evalue": "cannot write mode F as PNG",
     "output_type": "error",
     "traceback": [
      "\u001b[0;31m---------------------------------------------------------------------------\u001b[0m",
      "\u001b[0;31mKeyError\u001b[0m                                  Traceback (most recent call last)",
      "\u001b[0;32m~/.pyenv/versions/sci/lib/python3.8/site-packages/PIL/PngImagePlugin.py\u001b[0m in \u001b[0;36m_save\u001b[0;34m(im, fp, filename, chunk, save_all)\u001b[0m\n\u001b[1;32m   1178\u001b[0m     \u001b[0;32mtry\u001b[0m\u001b[0;34m:\u001b[0m\u001b[0;34m\u001b[0m\u001b[0;34m\u001b[0m\u001b[0m\n\u001b[0;32m-> 1179\u001b[0;31m         \u001b[0mrawmode\u001b[0m\u001b[0;34m,\u001b[0m \u001b[0mmode\u001b[0m \u001b[0;34m=\u001b[0m \u001b[0m_OUTMODES\u001b[0m\u001b[0;34m[\u001b[0m\u001b[0mmode\u001b[0m\u001b[0;34m]\u001b[0m\u001b[0;34m\u001b[0m\u001b[0;34m\u001b[0m\u001b[0m\n\u001b[0m\u001b[1;32m   1180\u001b[0m     \u001b[0;32mexcept\u001b[0m \u001b[0mKeyError\u001b[0m\u001b[0;34m:\u001b[0m\u001b[0;34m\u001b[0m\u001b[0;34m\u001b[0m\u001b[0m\n",
      "\u001b[0;31mKeyError\u001b[0m: 'F'",
      "\nDuring handling of the above exception, another exception occurred:\n",
      "\u001b[0;31mOSError\u001b[0m                                   Traceback (most recent call last)",
      "\u001b[0;32m<ipython-input-83-1de7734a2cc0>\u001b[0m in \u001b[0;36m<module>\u001b[0;34m\u001b[0m\n\u001b[1;32m     10\u001b[0m \u001b[0mnormalized\u001b[0m\u001b[0;34m=\u001b[0m\u001b[0;34m(\u001b[0m\u001b[0marray\u001b[0m\u001b[0;34m/\u001b[0m\u001b[0mmax_val\u001b[0m\u001b[0;34m)\u001b[0m\u001b[0;34m\u001b[0m\u001b[0;34m\u001b[0m\u001b[0m\n\u001b[1;32m     11\u001b[0m \u001b[0mim\u001b[0m \u001b[0;34m=\u001b[0m \u001b[0mpil_image\u001b[0m\u001b[0;34m.\u001b[0m\u001b[0mfromarray\u001b[0m\u001b[0;34m(\u001b[0m\u001b[0mnormalized\u001b[0m\u001b[0;34m)\u001b[0m\u001b[0;34m\u001b[0m\u001b[0;34m\u001b[0m\u001b[0m\n\u001b[0;32m---> 12\u001b[0;31m \u001b[0mim\u001b[0m\u001b[0;34m.\u001b[0m\u001b[0msave\u001b[0m\u001b[0;34m(\u001b[0m\u001b[0msave_path\u001b[0m\u001b[0;34m)\u001b[0m\u001b[0;34m\u001b[0m\u001b[0;34m\u001b[0m\u001b[0m\n\u001b[0m",
      "\u001b[0;32m~/.pyenv/versions/sci/lib/python3.8/site-packages/PIL/Image.py\u001b[0m in \u001b[0;36msave\u001b[0;34m(self, fp, format, **params)\u001b[0m\n\u001b[1;32m   2132\u001b[0m \u001b[0;34m\u001b[0m\u001b[0m\n\u001b[1;32m   2133\u001b[0m         \u001b[0;32mtry\u001b[0m\u001b[0;34m:\u001b[0m\u001b[0;34m\u001b[0m\u001b[0;34m\u001b[0m\u001b[0m\n\u001b[0;32m-> 2134\u001b[0;31m             \u001b[0msave_handler\u001b[0m\u001b[0;34m(\u001b[0m\u001b[0mself\u001b[0m\u001b[0;34m,\u001b[0m \u001b[0mfp\u001b[0m\u001b[0;34m,\u001b[0m \u001b[0mfilename\u001b[0m\u001b[0;34m)\u001b[0m\u001b[0;34m\u001b[0m\u001b[0;34m\u001b[0m\u001b[0m\n\u001b[0m\u001b[1;32m   2135\u001b[0m         \u001b[0;32mfinally\u001b[0m\u001b[0;34m:\u001b[0m\u001b[0;34m\u001b[0m\u001b[0;34m\u001b[0m\u001b[0m\n\u001b[1;32m   2136\u001b[0m             \u001b[0;31m# do what we can to clean up\u001b[0m\u001b[0;34m\u001b[0m\u001b[0;34m\u001b[0m\u001b[0;34m\u001b[0m\u001b[0m\n",
      "\u001b[0;32m~/.pyenv/versions/sci/lib/python3.8/site-packages/PIL/PngImagePlugin.py\u001b[0m in \u001b[0;36m_save\u001b[0;34m(im, fp, filename, chunk, save_all)\u001b[0m\n\u001b[1;32m   1179\u001b[0m         \u001b[0mrawmode\u001b[0m\u001b[0;34m,\u001b[0m \u001b[0mmode\u001b[0m \u001b[0;34m=\u001b[0m \u001b[0m_OUTMODES\u001b[0m\u001b[0;34m[\u001b[0m\u001b[0mmode\u001b[0m\u001b[0;34m]\u001b[0m\u001b[0;34m\u001b[0m\u001b[0;34m\u001b[0m\u001b[0m\n\u001b[1;32m   1180\u001b[0m     \u001b[0;32mexcept\u001b[0m \u001b[0mKeyError\u001b[0m\u001b[0;34m:\u001b[0m\u001b[0;34m\u001b[0m\u001b[0;34m\u001b[0m\u001b[0m\n\u001b[0;32m-> 1181\u001b[0;31m         \u001b[0;32mraise\u001b[0m \u001b[0mOSError\u001b[0m\u001b[0;34m(\u001b[0m\u001b[0;34m\"cannot write mode %s as PNG\"\u001b[0m \u001b[0;34m%\u001b[0m \u001b[0mmode\u001b[0m\u001b[0;34m)\u001b[0m\u001b[0;34m\u001b[0m\u001b[0;34m\u001b[0m\u001b[0m\n\u001b[0m\u001b[1;32m   1182\u001b[0m \u001b[0;34m\u001b[0m\u001b[0m\n\u001b[1;32m   1183\u001b[0m     \u001b[0;31m#\u001b[0m\u001b[0;34m\u001b[0m\u001b[0;34m\u001b[0m\u001b[0;34m\u001b[0m\u001b[0m\n",
      "\u001b[0;31mOSError\u001b[0m: cannot write mode F as PNG"
     ]
    }
   ],
   "source": [
    "import PIL.Image as pil_image\n",
    "import io\n",
    "import numpy as np\n",
    "path='./testingbimcv/sub-S03088_ses-E06182_run-1_bp-chest_vp-ap_dx.png'\n",
    "save_path='./teste.png'\n",
    "with open(path, 'rb') as f:\n",
    "    tif = pil_image.open(io.BytesIO(f.read()))\n",
    "array=np.array(tif)\n",
    "max_val=np.amax(array)\n",
    "normalized=(array/max_val)\n",
    "im = pil_image.fromarray(normalized)\n",
    "im.save(save_path) "
   ]
  },
  {
   "cell_type": "code",
   "execution_count": null,
   "metadata": {},
   "outputs": [],
   "source": []
  }
 ],
 "metadata": {
  "kernelspec": {
   "display_name": "science",
   "language": "python",
   "name": "sci"
  },
  "language_info": {
   "codemirror_mode": {
    "name": "ipython",
    "version": 3
   },
   "file_extension": ".py",
   "mimetype": "text/x-python",
   "name": "python",
   "nbconvert_exporter": "python",
   "pygments_lexer": "ipython3",
   "version": "3.8.2"
  },
  "toc": {
   "base_numbering": 1,
   "nav_menu": {},
   "number_sections": true,
   "sideBar": true,
   "skip_h1_title": false,
   "title_cell": "Table of Contents",
   "title_sidebar": "Contents",
   "toc_cell": false,
   "toc_position": {},
   "toc_section_display": true,
   "toc_window_display": false
  }
 },
 "nbformat": 4,
 "nbformat_minor": 4
}
