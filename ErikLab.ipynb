{
 "cells": [
  {
   "cell_type": "markdown",
   "metadata": {},
   "source": [
    "# Imports"
   ]
  },
  {
   "cell_type": "code",
   "execution_count": 1,
   "metadata": {},
   "outputs": [],
   "source": [
    "import tensorflow as tf\n",
    "import math\n",
    "import cv2\n",
    "import re\n",
    "from tqdm.notebook import tqdm\n",
    "from glob import glob\n",
    "import os\n",
    "import numpy as np\n",
    "\n",
    "from Utils import make_dir"
   ]
  },
  {
   "cell_type": "code",
   "execution_count": 2,
   "metadata": {},
   "outputs": [],
   "source": [
    "def convert_images_to_jpg(base_path='./COVID-19 Dataset/X-ray/', to_bw=False):\n",
    "    # Rename jpg to jpeg for consistency\n",
    "    jpg_files = [\n",
    "        y for x in os.walk(base_path)\n",
    "        for y in glob(os.path.join(x[0], '*.jpg'))\n",
    "    ]\n",
    "    if jpg_files:\n",
    "        for file in tqdm(jpg_files, desc='Renaming .jpg to .jpeg'):\n",
    "            os.rename(file, file.replace('.jpg', '.jpeg'))\n",
    "\n",
    "    # Convert png to jpeg\n",
    "    png_files = [\n",
    "        y for x in os.walk(base_path)\n",
    "        for y in glob(os.path.join(x[0], '*.png'))\n",
    "    ]\n",
    "    if png_files:\n",
    "        for file in tqdm(png_files, desc='Converting .png to .jpeg'):\n",
    "            im = cv2.imread(file)\n",
    "            cv2.imwrite(file.replace('.png', '.jpeg'), im)\n",
    "            os.remove(file)\n",
    "\n",
    "    if to_bw:\n",
    "        # Convert to bw\n",
    "        files = [\n",
    "            y for x in os.walk(base_path)\n",
    "            for y in glob(os.path.join(x[0], '*.jpeg'))\n",
    "        ]\n",
    "        if files:\n",
    "            for file in tqdm(files, desc='Converting images to b&w'):\n",
    "                im = cv2.imread(file)\n",
    "                im = cv2.cvtColor(im, cv2.COLOR_BGR2GRAY)\n",
    "                cv2.imwrite(file, im)"
   ]
  },
  {
   "cell_type": "code",
   "execution_count": 58,
   "metadata": {
    "scrolled": false
   },
   "outputs": [],
   "source": [
    "def _float32_list(floats):\n",
    "    return tf.train.Feature(float_list=tf.train.FloatList(\n",
    "        value=floats))\n",
    "\n",
    "def _int64_list(values):\n",
    "    return tf.train.Feature(int64_list=tf.train.Int64List(value=values))\n",
    "\n",
    "def to_tfrecord(tfrec_filewriter, image, label):\n",
    "    feature = {\n",
    "        \"image\": _float32_list(image.ravel()),\n",
    "        \"label\": _int64_list([label]),\n",
    "    }\n",
    "    return tf.train.Example(features=tf.train.Features(feature=feature))\n",
    "\n",
    "def encode_image(file_name):\n",
    "    class_folders = tf.constant([\n",
    "        '\\.\\/COVID-19 Dataset\\/X-ray\\/Non-COVID.+',\n",
    "        '\\.\\/COVID-19 Dataset\\/X-ray\\/COVID.+'\n",
    "    ])\n",
    "    image_label = tf.argmax(tf.map_fn(\n",
    "        lambda x: tf.strings.regex_full_match(file_name, x),\n",
    "        class_folders,\n",
    "        fn_output_signature=tf.bool),\n",
    "                            output_type=tf.dtypes.int32)\n",
    "    image = tf.io.read_file(file_name)\n",
    "    image = tf.image.decode_jpeg(image)\n",
    "    image = tf.image.resize(image, [224, 224]) / 255.0\n",
    "    return image, image_label\n",
    "\n",
    "\n",
    "def generate_tfrecord_files(tfrecords_path='./dataset/train/',\n",
    "                            images_path='./COVID-19 Dataset/X-ray/',\n",
    "                            images_per_file=512):\n",
    "    make_dir(tfrecords_path)\n",
    "    \n",
    "    images_path_pattern = images_path + '*/*.jpeg'\n",
    "    found_images = len(tf.io.gfile.glob(images_path_pattern))\n",
    "    print(\n",
    "        'Pattern matches {} images which will be rewritten as {} TFRecord files containing ~{} images each.'\n",
    "        .format(found_images, math.ceil(found_images / images_per_file),\n",
    "                images_per_file))\n",
    "    images = tf.data.Dataset.list_files(images_path_pattern)\n",
    "    dataset = images.map(encode_image).batch(images_per_file)\n",
    "\n",
    "    for file_number, (image, label) in enumerate(tqdm(dataset, desc='Generating TFRecords')):\n",
    "        tfrecord_filename = tfrecords_path + \"{:02d}-{}.tfrecord\".format(\n",
    "            file_number, images_per_file)\n",
    "        \n",
    "        images_in_this_file = image.numpy().shape[0]\n",
    "        if not os.path.isfile(tfrecord_filename):\n",
    "            with tf.io.TFRecordWriter(tfrecord_filename) as out_file:\n",
    "                for i in range(images_in_this_file):\n",
    "                    example = to_tfrecord(out_file,\n",
    "                                           np.array(image)[i],\n",
    "                                           label.numpy()[i])\n",
    "                    out_file.write(example.SerializeToString())"
   ]
  },
  {
   "cell_type": "code",
   "execution_count": null,
   "metadata": {
    "scrolled": false
   },
   "outputs": [
    {
     "name": "stdout",
     "output_type": "stream",
     "text": [
      "Pattern matches 8380 images which will be rewritten as 17 TFRecord files containing ~512 images each.\n"
     ]
    },
    {
     "data": {
      "application/vnd.jupyter.widget-view+json": {
       "model_id": "acbcbe61941c447180912b92339cc1b0",
       "version_major": 2,
       "version_minor": 0
      },
      "text/plain": [
       "HBox(children=(FloatProgress(value=0.0, description='Generating TFRecords', max=17.0, style=ProgressStyle(desc…"
      ]
     },
     "metadata": {},
     "output_type": "display_data"
    }
   ],
   "source": [
    "dataset = generate_tfrecord_files()"
   ]
  },
  {
   "cell_type": "code",
   "execution_count": 4,
   "metadata": {},
   "outputs": [],
   "source": [
    "convert_images_to_jpg()"
   ]
  },
  {
   "cell_type": "code",
   "execution_count": null,
   "metadata": {},
   "outputs": [],
   "source": []
  }
 ],
 "metadata": {
  "kernelspec": {
   "display_name": "science",
   "language": "python",
   "name": "sci"
  },
  "language_info": {
   "codemirror_mode": {
    "name": "ipython",
    "version": 3
   },
   "file_extension": ".py",
   "mimetype": "text/x-python",
   "name": "python",
   "nbconvert_exporter": "python",
   "pygments_lexer": "ipython3",
   "version": "3.8.2"
  },
  "toc": {
   "base_numbering": 1,
   "nav_menu": {},
   "number_sections": true,
   "sideBar": true,
   "skip_h1_title": false,
   "title_cell": "Table of Contents",
   "title_sidebar": "Contents",
   "toc_cell": false,
   "toc_position": {},
   "toc_section_display": true,
   "toc_window_display": false
  }
 },
 "nbformat": 4,
 "nbformat_minor": 4
}
