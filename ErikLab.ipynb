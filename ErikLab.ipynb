{
 "cells": [
  {
   "cell_type": "markdown",
   "metadata": {},
   "source": [
    "# Imports"
   ]
  },
  {
   "cell_type": "code",
   "execution_count": 1,
   "metadata": {},
   "outputs": [],
   "source": [
    "import matplotlib.pyplot as plt\n",
    "from generate import read_tfrecord_files\n",
    "import numpy as np"
   ]
  },
  {
   "cell_type": "code",
   "execution_count": 2,
   "metadata": {},
   "outputs": [],
   "source": [
    "dataset = read_tfrecord_files()"
   ]
  },
  {
   "cell_type": "code",
   "execution_count": 5,
   "metadata": {
    "tags": []
   },
   "outputs": [
    {
     "output_type": "stream",
     "name": "stdout",
     "text": "[0 1]\n[0 1]\n[0 1]\n[1 0]\n[1 0]\n[1 0]\n[1 0]\n[1 0]\n[1 0]\n[1 0]\n[1 0]\n[0 1]\n[0 1]\n[1 0]\n[1 0]\n[0 1]\n[1 0]\n[1 0]\n[1 0]\n[1 0]\n[1 0]\n[0 1]\n[0 1]\n[0 1]\n[1 0]\n[1 0]\n[1 0]\n[1 0]\n[1 0]\n[1 0]\n[1 0]\n[0 1]\n[0 1]\n[1 0]\n[0 1]\n[1 0]\n[1 0]\n[1 0]\n[1 0]\n[1 0]\n[1 0]\n[1 0]\n[1 0]\n[1 0]\n[1 0]\n[0 1]\n[0 1]\n[1 0]\n[0 1]\n[0 1]\n[1 0]\n[1 0]\n[1 0]\n[0 1]\n[1 0]\n[0 1]\n[1 0]\n[0 1]\n[0 1]\n[0 1]\n[1 0]\n[1 0]\n[0 1]\n[1 0]\n[0 1]\n[1 0]\n[1 0]\n[0 1]\n[0 1]\n[0 1]\n[1 0]\n[0 1]\n[1 0]\n[1 0]\n[1 0]\n[1 0]\n[1 0]\n[1 0]\n[0 1]\n[0 1]\n[0 1]\n[1 0]\n[1 0]\n[1 0]\n[0 1]\n[1 0]\n[1 0]\n[1 0]\n[0 1]\n[1 0]\n[0 1]\n[1 0]\n[1 0]\n[0 1]\n[1 0]\n[0 1]\n[1 0]\n[0 1]\n[0 1]\n[1 0]\n"
    }
   ],
   "source": [
    "d = dataset.take(100)\n",
    "for i in d:\n",
    "    print(i[1].numpy())"
   ]
  },
  {
   "cell_type": "code",
   "execution_count": 28,
   "metadata": {},
   "outputs": [
    {
     "name": "stdout",
     "output_type": "stream",
     "text": [
      "Equal 1026\n"
     ]
    }
   ],
   "source": [
    "num = 1026\n",
    "d = dataset.take(num)\n",
    "list_names = []\n",
    "for i in d:\n",
    "    list_names += [i[2].numpy()]\n",
    "if len(set(list_names)) == len(list_names):\n",
    "    print(\"Equal \" + str(len(list_names)))"
   ]
  },
  {
   "cell_type": "code",
   "execution_count": null,
   "metadata": {},
   "outputs": [],
   "source": []
  }
 ],
 "metadata": {
  "kernelspec": {
   "display_name": "science",
   "language": "python",
   "name": "sci"
  },
  "language_info": {
   "codemirror_mode": {
    "name": "ipython",
    "version": 3
   },
   "file_extension": ".py",
   "mimetype": "text/x-python",
   "name": "python",
   "nbconvert_exporter": "python",
   "pygments_lexer": "ipython3",
   "version": "3.8.2-final"
  },
  "toc": {
   "base_numbering": 1,
   "nav_menu": {},
   "number_sections": true,
   "sideBar": true,
   "skip_h1_title": false,
   "title_cell": "Table of Contents",
   "title_sidebar": "Contents",
   "toc_cell": false,
   "toc_position": {},
   "toc_section_display": true,
   "toc_window_display": false
  }
 },
 "nbformat": 4,
 "nbformat_minor": 4
}